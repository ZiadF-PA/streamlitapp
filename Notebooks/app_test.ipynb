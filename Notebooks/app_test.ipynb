{
 "cells": [
  {
   "cell_type": "code",
   "execution_count": 1,
   "metadata": {},
   "outputs": [],
   "source": [
    "import pandas as pd\n",
    "import plotly.graph_objs as go"
   ]
  },
  {
   "cell_type": "code",
   "execution_count": 99,
   "metadata": {},
   "outputs": [],
   "source": [
    "\n",
    "#url = \"https://paconsulting-my.sharepoint.com/:x:/p/samuel_brown/Ee3gSqK-RbROkTdkmaAOvWsBlEiUR3LFJXvwsEXlqeTuJQ?e=T9XKC0\"\n",
    "#df = pd.read_excel(url,skiprows=1)\n",
    "df = pd.read_excel(\"./Example_Progress_Tracking_Data_02.xlsx\",skiprows=1)\n",
    "\n",
    "#df = pd.read_csv(\"Progress Tracking Tool v2.csv\")"
   ]
  },
  {
   "cell_type": "code",
   "execution_count": 100,
   "metadata": {},
   "outputs": [],
   "source": [
    "def plot_completion_forecast(df):\n",
    "    total_time_forecast = df[\"Planned Duration\"].sum()\n",
    "    df[\"cumulative_forecast_time\"] = df[\"Planned Duration\"].cumsum()\n",
    "    df[\"cumulative_completion_percentage\"] = df[\"cumulative_forecast_time\"]/total_time_forecast\n",
    "    df[\"completion_uncertainty\"] = df[\"Planned Duration\"]*0.05\n",
    "    \n",
    "    df[\"delay_duration\"] = (df[\"Actual Start Date\"] - df[\"Planned start date\"])\n",
    "    df[\"delay_duration\"] = df[\"delay_duration\"].fillna(\"0 days\")\n",
    "    df[\"cumulative_delay\"]=pd.Timedelta(\"0 days\")\n",
    "    df[\"cumulative_delay\"] = df[\"delay_duration\"].cumsum()\n",
    "\n",
    "    df[\"updated_forecast\"] = df[\"Planned start date\"] + df[\"cumulative_delay\"]\n",
    "\n",
    "    fig = go.Figure([\n",
    "        go.Scatter(\n",
    "            name='Planned',\n",
    "            x=df['Planned start date'],\n",
    "            y=df['cumulative_completion_percentage'],\n",
    "            mode='lines',\n",
    "            line=dict(color='rgb(31, 119, 180)', width=6),\n",
    "        ),\n",
    "        go.Scatter(\n",
    "            name='Upper Bound',\n",
    "            x=df['Planned start date'],\n",
    "            y=df['cumulative_completion_percentage']+df['completion_uncertainty'],\n",
    "            mode='lines',\n",
    "            marker=dict(color=\"#444\"),\n",
    "            line=dict(width=0),\n",
    "            showlegend=False\n",
    "        ),\n",
    "        go.Scatter(\n",
    "            name='Lower Bound',\n",
    "            x=df['Planned start date'],\n",
    "            y=df['cumulative_completion_percentage']-df['completion_uncertainty'],\n",
    "            marker=dict(color=\"#444\"),\n",
    "            line=dict(width=0),\n",
    "            mode='lines',\n",
    "            fillcolor='rgba(80, 60, 150, 0.4)',\n",
    "            fill='tonexty',\n",
    "            showlegend=False\n",
    "            ),\n",
    "        go.Scatter(\n",
    "            name='Updated Forecast',\n",
    "            x=df['updated_forecast'],\n",
    "            y=df['cumulative_completion_percentage'],\n",
    "            mode='lines',\n",
    "            line=dict(color='rgb(0, 200, 80)',  width=4),\n",
    "        )\n",
    "    ])\n",
    "    fig.update_xaxes(title=\"Date\")\n",
    "    fig.update_yaxes(title=\"Woring Hours\")\n",
    "    fig.show()"
   ]
  },
  {
   "cell_type": "code",
   "execution_count": 101,
   "metadata": {},
   "outputs": [
    {
     "name": "stderr",
     "output_type": "stream",
     "text": [
      "C:\\Users\\LONZF\\AppData\\Local\\Temp\\ipykernel_23880\\230605747.py:3: SettingWithCopyWarning:\n",
      "\n",
      "\n",
      "A value is trying to be set on a copy of a slice from a DataFrame.\n",
      "Try using .loc[row_indexer,col_indexer] = value instead\n",
      "\n",
      "See the caveats in the documentation: https://pandas.pydata.org/pandas-docs/stable/user_guide/indexing.html#returning-a-view-versus-a-copy\n",
      "\n",
      "C:\\Users\\LONZF\\AppData\\Local\\Temp\\ipykernel_23880\\230605747.py:4: SettingWithCopyWarning:\n",
      "\n",
      "\n",
      "A value is trying to be set on a copy of a slice from a DataFrame.\n",
      "Try using .loc[row_indexer,col_indexer] = value instead\n",
      "\n",
      "See the caveats in the documentation: https://pandas.pydata.org/pandas-docs/stable/user_guide/indexing.html#returning-a-view-versus-a-copy\n",
      "\n",
      "C:\\Users\\LONZF\\AppData\\Local\\Temp\\ipykernel_23880\\230605747.py:5: SettingWithCopyWarning:\n",
      "\n",
      "\n",
      "A value is trying to be set on a copy of a slice from a DataFrame.\n",
      "Try using .loc[row_indexer,col_indexer] = value instead\n",
      "\n",
      "See the caveats in the documentation: https://pandas.pydata.org/pandas-docs/stable/user_guide/indexing.html#returning-a-view-versus-a-copy\n",
      "\n",
      "C:\\Users\\LONZF\\AppData\\Local\\Temp\\ipykernel_23880\\230605747.py:7: SettingWithCopyWarning:\n",
      "\n",
      "\n",
      "A value is trying to be set on a copy of a slice from a DataFrame.\n",
      "Try using .loc[row_indexer,col_indexer] = value instead\n",
      "\n",
      "See the caveats in the documentation: https://pandas.pydata.org/pandas-docs/stable/user_guide/indexing.html#returning-a-view-versus-a-copy\n",
      "\n",
      "C:\\Users\\LONZF\\AppData\\Local\\Temp\\ipykernel_23880\\230605747.py:8: SettingWithCopyWarning:\n",
      "\n",
      "\n",
      "A value is trying to be set on a copy of a slice from a DataFrame.\n",
      "Try using .loc[row_indexer,col_indexer] = value instead\n",
      "\n",
      "See the caveats in the documentation: https://pandas.pydata.org/pandas-docs/stable/user_guide/indexing.html#returning-a-view-versus-a-copy\n",
      "\n",
      "C:\\Users\\LONZF\\AppData\\Local\\Temp\\ipykernel_23880\\230605747.py:9: SettingWithCopyWarning:\n",
      "\n",
      "\n",
      "A value is trying to be set on a copy of a slice from a DataFrame.\n",
      "Try using .loc[row_indexer,col_indexer] = value instead\n",
      "\n",
      "See the caveats in the documentation: https://pandas.pydata.org/pandas-docs/stable/user_guide/indexing.html#returning-a-view-versus-a-copy\n",
      "\n",
      "C:\\Users\\LONZF\\AppData\\Local\\Temp\\ipykernel_23880\\230605747.py:10: SettingWithCopyWarning:\n",
      "\n",
      "\n",
      "A value is trying to be set on a copy of a slice from a DataFrame.\n",
      "Try using .loc[row_indexer,col_indexer] = value instead\n",
      "\n",
      "See the caveats in the documentation: https://pandas.pydata.org/pandas-docs/stable/user_guide/indexing.html#returning-a-view-versus-a-copy\n",
      "\n",
      "C:\\Users\\LONZF\\AppData\\Local\\Temp\\ipykernel_23880\\230605747.py:12: SettingWithCopyWarning:\n",
      "\n",
      "\n",
      "A value is trying to be set on a copy of a slice from a DataFrame.\n",
      "Try using .loc[row_indexer,col_indexer] = value instead\n",
      "\n",
      "See the caveats in the documentation: https://pandas.pydata.org/pandas-docs/stable/user_guide/indexing.html#returning-a-view-versus-a-copy\n",
      "\n"
     ]
    },
    {
     "data": {
      "application/vnd.plotly.v1+json": {
       "config": {
        "plotlyServerURL": "https://plot.ly"
       },
       "data": [
        {
         "line": {
          "color": "rgb(31, 119, 180)",
          "width": 6
         },
         "mode": "lines",
         "name": "Planned",
         "type": "scatter",
         "x": [
          "2023-02-27T00:00:00",
          "2023-03-08T00:00:00",
          "2023-03-13T00:00:00",
          "2023-03-17T00:00:00",
          "2023-03-25T00:00:00"
         ],
         "y": [
          0.28125,
          0.4375,
          0.5625,
          0.8125,
          1
         ]
        },
        {
         "line": {
          "width": 0
         },
         "marker": {
          "color": "#444"
         },
         "mode": "lines",
         "name": "Upper Bound",
         "showlegend": false,
         "type": "scatter",
         "x": [
          "2023-02-27T00:00:00",
          "2023-03-08T00:00:00",
          "2023-03-13T00:00:00",
          "2023-03-17T00:00:00",
          "2023-03-25T00:00:00"
         ],
         "y": [
          0.73125,
          0.6875,
          0.7625,
          1.2125,
          1.3
         ]
        },
        {
         "fill": "tonexty",
         "fillcolor": "rgba(80, 60, 150, 0.4)",
         "line": {
          "width": 0
         },
         "marker": {
          "color": "#444"
         },
         "mode": "lines",
         "name": "Lower Bound",
         "showlegend": false,
         "type": "scatter",
         "x": [
          "2023-02-27T00:00:00",
          "2023-03-08T00:00:00",
          "2023-03-13T00:00:00",
          "2023-03-17T00:00:00",
          "2023-03-25T00:00:00"
         ],
         "y": [
          -0.16875,
          0.1875,
          0.3625,
          0.4125,
          0.7
         ]
        },
        {
         "line": {
          "color": "rgb(0, 200, 80)",
          "width": 4
         },
         "mode": "lines",
         "name": "Updated Forecast",
         "type": "scatter",
         "x": [
          "2023-02-27T00:00:00",
          "2023-03-11T00:00:00",
          "2023-03-16T00:00:00",
          "2023-03-20T00:00:00",
          "2023-03-28T00:00:00"
         ],
         "y": [
          0.28125,
          0.4375,
          0.5625,
          0.8125,
          1
         ]
        }
       ],
       "layout": {
        "template": {
         "data": {
          "bar": [
           {
            "error_x": {
             "color": "#2a3f5f"
            },
            "error_y": {
             "color": "#2a3f5f"
            },
            "marker": {
             "line": {
              "color": "#E5ECF6",
              "width": 0.5
             },
             "pattern": {
              "fillmode": "overlay",
              "size": 10,
              "solidity": 0.2
             }
            },
            "type": "bar"
           }
          ],
          "barpolar": [
           {
            "marker": {
             "line": {
              "color": "#E5ECF6",
              "width": 0.5
             },
             "pattern": {
              "fillmode": "overlay",
              "size": 10,
              "solidity": 0.2
             }
            },
            "type": "barpolar"
           }
          ],
          "carpet": [
           {
            "aaxis": {
             "endlinecolor": "#2a3f5f",
             "gridcolor": "white",
             "linecolor": "white",
             "minorgridcolor": "white",
             "startlinecolor": "#2a3f5f"
            },
            "baxis": {
             "endlinecolor": "#2a3f5f",
             "gridcolor": "white",
             "linecolor": "white",
             "minorgridcolor": "white",
             "startlinecolor": "#2a3f5f"
            },
            "type": "carpet"
           }
          ],
          "choropleth": [
           {
            "colorbar": {
             "outlinewidth": 0,
             "ticks": ""
            },
            "type": "choropleth"
           }
          ],
          "contour": [
           {
            "colorbar": {
             "outlinewidth": 0,
             "ticks": ""
            },
            "colorscale": [
             [
              0,
              "#0d0887"
             ],
             [
              0.1111111111111111,
              "#46039f"
             ],
             [
              0.2222222222222222,
              "#7201a8"
             ],
             [
              0.3333333333333333,
              "#9c179e"
             ],
             [
              0.4444444444444444,
              "#bd3786"
             ],
             [
              0.5555555555555556,
              "#d8576b"
             ],
             [
              0.6666666666666666,
              "#ed7953"
             ],
             [
              0.7777777777777778,
              "#fb9f3a"
             ],
             [
              0.8888888888888888,
              "#fdca26"
             ],
             [
              1,
              "#f0f921"
             ]
            ],
            "type": "contour"
           }
          ],
          "contourcarpet": [
           {
            "colorbar": {
             "outlinewidth": 0,
             "ticks": ""
            },
            "type": "contourcarpet"
           }
          ],
          "heatmap": [
           {
            "colorbar": {
             "outlinewidth": 0,
             "ticks": ""
            },
            "colorscale": [
             [
              0,
              "#0d0887"
             ],
             [
              0.1111111111111111,
              "#46039f"
             ],
             [
              0.2222222222222222,
              "#7201a8"
             ],
             [
              0.3333333333333333,
              "#9c179e"
             ],
             [
              0.4444444444444444,
              "#bd3786"
             ],
             [
              0.5555555555555556,
              "#d8576b"
             ],
             [
              0.6666666666666666,
              "#ed7953"
             ],
             [
              0.7777777777777778,
              "#fb9f3a"
             ],
             [
              0.8888888888888888,
              "#fdca26"
             ],
             [
              1,
              "#f0f921"
             ]
            ],
            "type": "heatmap"
           }
          ],
          "heatmapgl": [
           {
            "colorbar": {
             "outlinewidth": 0,
             "ticks": ""
            },
            "colorscale": [
             [
              0,
              "#0d0887"
             ],
             [
              0.1111111111111111,
              "#46039f"
             ],
             [
              0.2222222222222222,
              "#7201a8"
             ],
             [
              0.3333333333333333,
              "#9c179e"
             ],
             [
              0.4444444444444444,
              "#bd3786"
             ],
             [
              0.5555555555555556,
              "#d8576b"
             ],
             [
              0.6666666666666666,
              "#ed7953"
             ],
             [
              0.7777777777777778,
              "#fb9f3a"
             ],
             [
              0.8888888888888888,
              "#fdca26"
             ],
             [
              1,
              "#f0f921"
             ]
            ],
            "type": "heatmapgl"
           }
          ],
          "histogram": [
           {
            "marker": {
             "pattern": {
              "fillmode": "overlay",
              "size": 10,
              "solidity": 0.2
             }
            },
            "type": "histogram"
           }
          ],
          "histogram2d": [
           {
            "colorbar": {
             "outlinewidth": 0,
             "ticks": ""
            },
            "colorscale": [
             [
              0,
              "#0d0887"
             ],
             [
              0.1111111111111111,
              "#46039f"
             ],
             [
              0.2222222222222222,
              "#7201a8"
             ],
             [
              0.3333333333333333,
              "#9c179e"
             ],
             [
              0.4444444444444444,
              "#bd3786"
             ],
             [
              0.5555555555555556,
              "#d8576b"
             ],
             [
              0.6666666666666666,
              "#ed7953"
             ],
             [
              0.7777777777777778,
              "#fb9f3a"
             ],
             [
              0.8888888888888888,
              "#fdca26"
             ],
             [
              1,
              "#f0f921"
             ]
            ],
            "type": "histogram2d"
           }
          ],
          "histogram2dcontour": [
           {
            "colorbar": {
             "outlinewidth": 0,
             "ticks": ""
            },
            "colorscale": [
             [
              0,
              "#0d0887"
             ],
             [
              0.1111111111111111,
              "#46039f"
             ],
             [
              0.2222222222222222,
              "#7201a8"
             ],
             [
              0.3333333333333333,
              "#9c179e"
             ],
             [
              0.4444444444444444,
              "#bd3786"
             ],
             [
              0.5555555555555556,
              "#d8576b"
             ],
             [
              0.6666666666666666,
              "#ed7953"
             ],
             [
              0.7777777777777778,
              "#fb9f3a"
             ],
             [
              0.8888888888888888,
              "#fdca26"
             ],
             [
              1,
              "#f0f921"
             ]
            ],
            "type": "histogram2dcontour"
           }
          ],
          "mesh3d": [
           {
            "colorbar": {
             "outlinewidth": 0,
             "ticks": ""
            },
            "type": "mesh3d"
           }
          ],
          "parcoords": [
           {
            "line": {
             "colorbar": {
              "outlinewidth": 0,
              "ticks": ""
             }
            },
            "type": "parcoords"
           }
          ],
          "pie": [
           {
            "automargin": true,
            "type": "pie"
           }
          ],
          "scatter": [
           {
            "fillpattern": {
             "fillmode": "overlay",
             "size": 10,
             "solidity": 0.2
            },
            "type": "scatter"
           }
          ],
          "scatter3d": [
           {
            "line": {
             "colorbar": {
              "outlinewidth": 0,
              "ticks": ""
             }
            },
            "marker": {
             "colorbar": {
              "outlinewidth": 0,
              "ticks": ""
             }
            },
            "type": "scatter3d"
           }
          ],
          "scattercarpet": [
           {
            "marker": {
             "colorbar": {
              "outlinewidth": 0,
              "ticks": ""
             }
            },
            "type": "scattercarpet"
           }
          ],
          "scattergeo": [
           {
            "marker": {
             "colorbar": {
              "outlinewidth": 0,
              "ticks": ""
             }
            },
            "type": "scattergeo"
           }
          ],
          "scattergl": [
           {
            "marker": {
             "colorbar": {
              "outlinewidth": 0,
              "ticks": ""
             }
            },
            "type": "scattergl"
           }
          ],
          "scattermapbox": [
           {
            "marker": {
             "colorbar": {
              "outlinewidth": 0,
              "ticks": ""
             }
            },
            "type": "scattermapbox"
           }
          ],
          "scatterpolar": [
           {
            "marker": {
             "colorbar": {
              "outlinewidth": 0,
              "ticks": ""
             }
            },
            "type": "scatterpolar"
           }
          ],
          "scatterpolargl": [
           {
            "marker": {
             "colorbar": {
              "outlinewidth": 0,
              "ticks": ""
             }
            },
            "type": "scatterpolargl"
           }
          ],
          "scatterternary": [
           {
            "marker": {
             "colorbar": {
              "outlinewidth": 0,
              "ticks": ""
             }
            },
            "type": "scatterternary"
           }
          ],
          "surface": [
           {
            "colorbar": {
             "outlinewidth": 0,
             "ticks": ""
            },
            "colorscale": [
             [
              0,
              "#0d0887"
             ],
             [
              0.1111111111111111,
              "#46039f"
             ],
             [
              0.2222222222222222,
              "#7201a8"
             ],
             [
              0.3333333333333333,
              "#9c179e"
             ],
             [
              0.4444444444444444,
              "#bd3786"
             ],
             [
              0.5555555555555556,
              "#d8576b"
             ],
             [
              0.6666666666666666,
              "#ed7953"
             ],
             [
              0.7777777777777778,
              "#fb9f3a"
             ],
             [
              0.8888888888888888,
              "#fdca26"
             ],
             [
              1,
              "#f0f921"
             ]
            ],
            "type": "surface"
           }
          ],
          "table": [
           {
            "cells": {
             "fill": {
              "color": "#EBF0F8"
             },
             "line": {
              "color": "white"
             }
            },
            "header": {
             "fill": {
              "color": "#C8D4E3"
             },
             "line": {
              "color": "white"
             }
            },
            "type": "table"
           }
          ]
         },
         "layout": {
          "annotationdefaults": {
           "arrowcolor": "#2a3f5f",
           "arrowhead": 0,
           "arrowwidth": 1
          },
          "autotypenumbers": "strict",
          "coloraxis": {
           "colorbar": {
            "outlinewidth": 0,
            "ticks": ""
           }
          },
          "colorscale": {
           "diverging": [
            [
             0,
             "#8e0152"
            ],
            [
             0.1,
             "#c51b7d"
            ],
            [
             0.2,
             "#de77ae"
            ],
            [
             0.3,
             "#f1b6da"
            ],
            [
             0.4,
             "#fde0ef"
            ],
            [
             0.5,
             "#f7f7f7"
            ],
            [
             0.6,
             "#e6f5d0"
            ],
            [
             0.7,
             "#b8e186"
            ],
            [
             0.8,
             "#7fbc41"
            ],
            [
             0.9,
             "#4d9221"
            ],
            [
             1,
             "#276419"
            ]
           ],
           "sequential": [
            [
             0,
             "#0d0887"
            ],
            [
             0.1111111111111111,
             "#46039f"
            ],
            [
             0.2222222222222222,
             "#7201a8"
            ],
            [
             0.3333333333333333,
             "#9c179e"
            ],
            [
             0.4444444444444444,
             "#bd3786"
            ],
            [
             0.5555555555555556,
             "#d8576b"
            ],
            [
             0.6666666666666666,
             "#ed7953"
            ],
            [
             0.7777777777777778,
             "#fb9f3a"
            ],
            [
             0.8888888888888888,
             "#fdca26"
            ],
            [
             1,
             "#f0f921"
            ]
           ],
           "sequentialminus": [
            [
             0,
             "#0d0887"
            ],
            [
             0.1111111111111111,
             "#46039f"
            ],
            [
             0.2222222222222222,
             "#7201a8"
            ],
            [
             0.3333333333333333,
             "#9c179e"
            ],
            [
             0.4444444444444444,
             "#bd3786"
            ],
            [
             0.5555555555555556,
             "#d8576b"
            ],
            [
             0.6666666666666666,
             "#ed7953"
            ],
            [
             0.7777777777777778,
             "#fb9f3a"
            ],
            [
             0.8888888888888888,
             "#fdca26"
            ],
            [
             1,
             "#f0f921"
            ]
           ]
          },
          "colorway": [
           "#636efa",
           "#EF553B",
           "#00cc96",
           "#ab63fa",
           "#FFA15A",
           "#19d3f3",
           "#FF6692",
           "#B6E880",
           "#FF97FF",
           "#FECB52"
          ],
          "font": {
           "color": "#2a3f5f"
          },
          "geo": {
           "bgcolor": "white",
           "lakecolor": "white",
           "landcolor": "#E5ECF6",
           "showlakes": true,
           "showland": true,
           "subunitcolor": "white"
          },
          "hoverlabel": {
           "align": "left"
          },
          "hovermode": "closest",
          "mapbox": {
           "style": "light"
          },
          "paper_bgcolor": "white",
          "plot_bgcolor": "#E5ECF6",
          "polar": {
           "angularaxis": {
            "gridcolor": "white",
            "linecolor": "white",
            "ticks": ""
           },
           "bgcolor": "#E5ECF6",
           "radialaxis": {
            "gridcolor": "white",
            "linecolor": "white",
            "ticks": ""
           }
          },
          "scene": {
           "xaxis": {
            "backgroundcolor": "#E5ECF6",
            "gridcolor": "white",
            "gridwidth": 2,
            "linecolor": "white",
            "showbackground": true,
            "ticks": "",
            "zerolinecolor": "white"
           },
           "yaxis": {
            "backgroundcolor": "#E5ECF6",
            "gridcolor": "white",
            "gridwidth": 2,
            "linecolor": "white",
            "showbackground": true,
            "ticks": "",
            "zerolinecolor": "white"
           },
           "zaxis": {
            "backgroundcolor": "#E5ECF6",
            "gridcolor": "white",
            "gridwidth": 2,
            "linecolor": "white",
            "showbackground": true,
            "ticks": "",
            "zerolinecolor": "white"
           }
          },
          "shapedefaults": {
           "line": {
            "color": "#2a3f5f"
           }
          },
          "ternary": {
           "aaxis": {
            "gridcolor": "white",
            "linecolor": "white",
            "ticks": ""
           },
           "baxis": {
            "gridcolor": "white",
            "linecolor": "white",
            "ticks": ""
           },
           "bgcolor": "#E5ECF6",
           "caxis": {
            "gridcolor": "white",
            "linecolor": "white",
            "ticks": ""
           }
          },
          "title": {
           "x": 0.05
          },
          "xaxis": {
           "automargin": true,
           "gridcolor": "white",
           "linecolor": "white",
           "ticks": "",
           "title": {
            "standoff": 15
           },
           "zerolinecolor": "white",
           "zerolinewidth": 2
          },
          "yaxis": {
           "automargin": true,
           "gridcolor": "white",
           "linecolor": "white",
           "ticks": "",
           "title": {
            "standoff": 15
           },
           "zerolinecolor": "white",
           "zerolinewidth": 2
          }
         }
        },
        "xaxis": {
         "title": {
          "text": "Date"
         }
        },
        "yaxis": {
         "title": {
          "text": "Woring Hours"
         }
        }
       }
      }
     },
     "metadata": {},
     "output_type": "display_data"
    }
   ],
   "source": [
    "plot_completion_forecast(df[df[\"Request\"]==\"Graduate Recruitment\"])"
   ]
  },
  {
   "cell_type": "code",
   "execution_count": 9,
   "metadata": {},
   "outputs": [
    {
     "data": {
      "text/html": [
       "<div>\n",
       "<style scoped>\n",
       "    .dataframe tbody tr th:only-of-type {\n",
       "        vertical-align: middle;\n",
       "    }\n",
       "\n",
       "    .dataframe tbody tr th {\n",
       "        vertical-align: top;\n",
       "    }\n",
       "\n",
       "    .dataframe thead th {\n",
       "        text-align: right;\n",
       "    }\n",
       "</style>\n",
       "<table border=\"1\" class=\"dataframe\">\n",
       "  <thead>\n",
       "    <tr style=\"text-align: right;\">\n",
       "      <th></th>\n",
       "      <th>Task ID</th>\n",
       "      <th>Planned Duration</th>\n",
       "    </tr>\n",
       "    <tr>\n",
       "      <th>Request</th>\n",
       "      <th></th>\n",
       "      <th></th>\n",
       "    </tr>\n",
       "  </thead>\n",
       "  <tbody>\n",
       "    <tr>\n",
       "      <th>C-Suite Recruitment</th>\n",
       "      <td>3.3</td>\n",
       "      <td>5.2</td>\n",
       "    </tr>\n",
       "    <tr>\n",
       "      <th>Experienced Recruitment</th>\n",
       "      <td>2.3</td>\n",
       "      <td>6.6</td>\n",
       "    </tr>\n",
       "    <tr>\n",
       "      <th>Graduate Recruitment</th>\n",
       "      <td>1.3</td>\n",
       "      <td>6.4</td>\n",
       "    </tr>\n",
       "  </tbody>\n",
       "</table>\n",
       "</div>"
      ],
      "text/plain": [
       "                         Task ID  Planned Duration\n",
       "Request                                           \n",
       "C-Suite Recruitment          3.3               5.2\n",
       "Experienced Recruitment      2.3               6.6\n",
       "Graduate Recruitment         1.3               6.4"
      ]
     },
     "execution_count": 9,
     "metadata": {},
     "output_type": "execute_result"
    }
   ],
   "source": [
    "df.groupby([\"Request\"]).mean()"
   ]
  },
  {
   "cell_type": "code",
   "execution_count": 10,
   "metadata": {},
   "outputs": [
    {
     "data": {
      "text/html": [
       "<div>\n",
       "<style scoped>\n",
       "    .dataframe tbody tr th:only-of-type {\n",
       "        vertical-align: middle;\n",
       "    }\n",
       "\n",
       "    .dataframe tbody tr th {\n",
       "        vertical-align: top;\n",
       "    }\n",
       "\n",
       "    .dataframe thead th {\n",
       "        text-align: right;\n",
       "    }\n",
       "</style>\n",
       "<table border=\"1\" class=\"dataframe\">\n",
       "  <thead>\n",
       "    <tr style=\"text-align: right;\">\n",
       "      <th></th>\n",
       "      <th>Task ID</th>\n",
       "      <th>Planned Duration</th>\n",
       "    </tr>\n",
       "    <tr>\n",
       "      <th>Request</th>\n",
       "      <th></th>\n",
       "      <th></th>\n",
       "    </tr>\n",
       "  </thead>\n",
       "  <tbody>\n",
       "    <tr>\n",
       "      <th>C-Suite Recruitment</th>\n",
       "      <td>0.158114</td>\n",
       "      <td>3.563706</td>\n",
       "    </tr>\n",
       "    <tr>\n",
       "      <th>Experienced Recruitment</th>\n",
       "      <td>0.158114</td>\n",
       "      <td>4.219005</td>\n",
       "    </tr>\n",
       "    <tr>\n",
       "      <th>Graduate Recruitment</th>\n",
       "      <td>0.158114</td>\n",
       "      <td>2.073644</td>\n",
       "    </tr>\n",
       "  </tbody>\n",
       "</table>\n",
       "</div>"
      ],
      "text/plain": [
       "                          Task ID  Planned Duration\n",
       "Request                                            \n",
       "C-Suite Recruitment      0.158114          3.563706\n",
       "Experienced Recruitment  0.158114          4.219005\n",
       "Graduate Recruitment     0.158114          2.073644"
      ]
     },
     "execution_count": 10,
     "metadata": {},
     "output_type": "execute_result"
    }
   ],
   "source": [
    "df.groupby([\"Request\"]).std()"
   ]
  },
  {
   "cell_type": "code",
   "execution_count": 56,
   "metadata": {},
   "outputs": [
    {
     "data": {
      "text/html": [
       "<div>\n",
       "<style scoped>\n",
       "    .dataframe tbody tr th:only-of-type {\n",
       "        vertical-align: middle;\n",
       "    }\n",
       "\n",
       "    .dataframe tbody tr th {\n",
       "        vertical-align: top;\n",
       "    }\n",
       "\n",
       "    .dataframe thead th {\n",
       "        text-align: right;\n",
       "    }\n",
       "</style>\n",
       "<table border=\"1\" class=\"dataframe\">\n",
       "  <thead>\n",
       "    <tr style=\"text-align: right;\">\n",
       "      <th></th>\n",
       "      <th>Request</th>\n",
       "      <th>Task ID</th>\n",
       "      <th>Step Description</th>\n",
       "      <th>Assigned to</th>\n",
       "      <th>Progress</th>\n",
       "      <th>Planned start date</th>\n",
       "      <th>Planned Duration</th>\n",
       "      <th>Planned Finish Date</th>\n",
       "      <th>Actual Start Date</th>\n",
       "      <th>Actual Completion Date</th>\n",
       "      <th>Forecast Completion Date</th>\n",
       "    </tr>\n",
       "  </thead>\n",
       "  <tbody>\n",
       "    <tr>\n",
       "      <th>0</th>\n",
       "      <td>Graduate Recruitment</td>\n",
       "      <td>1.1</td>\n",
       "      <td>CV Screening</td>\n",
       "      <td>Resource 1</td>\n",
       "      <td>In progress</td>\n",
       "      <td>2023-02-27</td>\n",
       "      <td>9</td>\n",
       "      <td>2023-03-07</td>\n",
       "      <td>2023-02-27</td>\n",
       "      <td>2023-03-10</td>\n",
       "      <td>2023-03-10</td>\n",
       "    </tr>\n",
       "    <tr>\n",
       "      <th>1</th>\n",
       "      <td>Graduate Recruitment</td>\n",
       "      <td>1.2</td>\n",
       "      <td>1st Stage Interview</td>\n",
       "      <td>Resource 1</td>\n",
       "      <td>Not started</td>\n",
       "      <td>2023-03-08</td>\n",
       "      <td>5</td>\n",
       "      <td>2023-03-12</td>\n",
       "      <td>2023-03-11</td>\n",
       "      <td>NaT</td>\n",
       "      <td>2023-03-16</td>\n",
       "    </tr>\n",
       "    <tr>\n",
       "      <th>2</th>\n",
       "      <td>Graduate Recruitment</td>\n",
       "      <td>1.3</td>\n",
       "      <td>2nd Stage Interview</td>\n",
       "      <td>Resource 1</td>\n",
       "      <td>Not started</td>\n",
       "      <td>2023-03-13</td>\n",
       "      <td>4</td>\n",
       "      <td>2023-03-16</td>\n",
       "      <td>NaT</td>\n",
       "      <td>NaT</td>\n",
       "      <td>2023-03-16</td>\n",
       "    </tr>\n",
       "    <tr>\n",
       "      <th>3</th>\n",
       "      <td>Graduate Recruitment</td>\n",
       "      <td>1.4</td>\n",
       "      <td>Issue Offers</td>\n",
       "      <td>Resource 1</td>\n",
       "      <td>Not started</td>\n",
       "      <td>2023-03-17</td>\n",
       "      <td>8</td>\n",
       "      <td>2023-03-24</td>\n",
       "      <td>NaT</td>\n",
       "      <td>NaT</td>\n",
       "      <td>2023-03-24</td>\n",
       "    </tr>\n",
       "    <tr>\n",
       "      <th>4</th>\n",
       "      <td>Graduate Recruitment</td>\n",
       "      <td>1.5</td>\n",
       "      <td>Onboard</td>\n",
       "      <td>Resource 1</td>\n",
       "      <td>Not started</td>\n",
       "      <td>2023-03-25</td>\n",
       "      <td>6</td>\n",
       "      <td>2023-03-30</td>\n",
       "      <td>NaT</td>\n",
       "      <td>NaT</td>\n",
       "      <td>2023-03-30</td>\n",
       "    </tr>\n",
       "    <tr>\n",
       "      <th>5</th>\n",
       "      <td>Experienced Recruitment</td>\n",
       "      <td>2.1</td>\n",
       "      <td>CV Screening</td>\n",
       "      <td>Resource 2</td>\n",
       "      <td>In progress</td>\n",
       "      <td>2023-02-27</td>\n",
       "      <td>5</td>\n",
       "      <td>2023-03-03</td>\n",
       "      <td>2023-02-28</td>\n",
       "      <td>2023-03-03</td>\n",
       "      <td>2023-03-03</td>\n",
       "    </tr>\n",
       "    <tr>\n",
       "      <th>6</th>\n",
       "      <td>Experienced Recruitment</td>\n",
       "      <td>2.2</td>\n",
       "      <td>1st Stage Interview</td>\n",
       "      <td>Resource 2</td>\n",
       "      <td>Not started</td>\n",
       "      <td>2023-03-04</td>\n",
       "      <td>10</td>\n",
       "      <td>2023-03-13</td>\n",
       "      <td>NaT</td>\n",
       "      <td>NaT</td>\n",
       "      <td>2023-03-13</td>\n",
       "    </tr>\n",
       "    <tr>\n",
       "      <th>7</th>\n",
       "      <td>Experienced Recruitment</td>\n",
       "      <td>2.3</td>\n",
       "      <td>2nd Stage Interview</td>\n",
       "      <td>Resource 2</td>\n",
       "      <td>Not started</td>\n",
       "      <td>2023-03-14</td>\n",
       "      <td>0</td>\n",
       "      <td>2023-03-13</td>\n",
       "      <td>NaT</td>\n",
       "      <td>NaT</td>\n",
       "      <td>2023-03-13</td>\n",
       "    </tr>\n",
       "    <tr>\n",
       "      <th>8</th>\n",
       "      <td>Experienced Recruitment</td>\n",
       "      <td>2.4</td>\n",
       "      <td>Issue Offers</td>\n",
       "      <td>Resource 2</td>\n",
       "      <td>Not started</td>\n",
       "      <td>2023-03-14</td>\n",
       "      <td>8</td>\n",
       "      <td>2023-03-21</td>\n",
       "      <td>NaT</td>\n",
       "      <td>NaT</td>\n",
       "      <td>2023-03-21</td>\n",
       "    </tr>\n",
       "    <tr>\n",
       "      <th>9</th>\n",
       "      <td>Experienced Recruitment</td>\n",
       "      <td>2.5</td>\n",
       "      <td>Onboard</td>\n",
       "      <td>Resource 2</td>\n",
       "      <td>Not started</td>\n",
       "      <td>2023-03-22</td>\n",
       "      <td>10</td>\n",
       "      <td>2023-03-31</td>\n",
       "      <td>NaT</td>\n",
       "      <td>NaT</td>\n",
       "      <td>2023-03-31</td>\n",
       "    </tr>\n",
       "    <tr>\n",
       "      <th>10</th>\n",
       "      <td>C-Suite Recruitment</td>\n",
       "      <td>3.1</td>\n",
       "      <td>CV Screening</td>\n",
       "      <td>Resource 3</td>\n",
       "      <td>In progress</td>\n",
       "      <td>2023-02-27</td>\n",
       "      <td>3</td>\n",
       "      <td>2023-03-01</td>\n",
       "      <td>2023-03-05</td>\n",
       "      <td>NaT</td>\n",
       "      <td>2023-03-08</td>\n",
       "    </tr>\n",
       "    <tr>\n",
       "      <th>11</th>\n",
       "      <td>C-Suite Recruitment</td>\n",
       "      <td>3.2</td>\n",
       "      <td>1st Stage Interview</td>\n",
       "      <td>Resource 3</td>\n",
       "      <td>Not started</td>\n",
       "      <td>2023-03-02</td>\n",
       "      <td>2</td>\n",
       "      <td>2023-03-03</td>\n",
       "      <td>NaT</td>\n",
       "      <td>NaT</td>\n",
       "      <td>2023-03-03</td>\n",
       "    </tr>\n",
       "    <tr>\n",
       "      <th>12</th>\n",
       "      <td>C-Suite Recruitment</td>\n",
       "      <td>3.3</td>\n",
       "      <td>2nd Stage Interview</td>\n",
       "      <td>Resource 4</td>\n",
       "      <td>Not started</td>\n",
       "      <td>2023-03-04</td>\n",
       "      <td>10</td>\n",
       "      <td>2023-03-13</td>\n",
       "      <td>NaT</td>\n",
       "      <td>NaT</td>\n",
       "      <td>2023-03-13</td>\n",
       "    </tr>\n",
       "    <tr>\n",
       "      <th>13</th>\n",
       "      <td>C-Suite Recruitment</td>\n",
       "      <td>3.4</td>\n",
       "      <td>Issue Offers</td>\n",
       "      <td>Resource 4</td>\n",
       "      <td>Not started</td>\n",
       "      <td>2023-03-14</td>\n",
       "      <td>8</td>\n",
       "      <td>2023-03-21</td>\n",
       "      <td>NaT</td>\n",
       "      <td>NaT</td>\n",
       "      <td>2023-03-21</td>\n",
       "    </tr>\n",
       "    <tr>\n",
       "      <th>14</th>\n",
       "      <td>C-Suite Recruitment</td>\n",
       "      <td>3.5</td>\n",
       "      <td>Onboard</td>\n",
       "      <td>Resource 4</td>\n",
       "      <td>Not started</td>\n",
       "      <td>2023-03-22</td>\n",
       "      <td>3</td>\n",
       "      <td>2023-03-24</td>\n",
       "      <td>NaT</td>\n",
       "      <td>NaT</td>\n",
       "      <td>2023-03-24</td>\n",
       "    </tr>\n",
       "  </tbody>\n",
       "</table>\n",
       "</div>"
      ],
      "text/plain": [
       "                    Request  Task ID     Step Description Assigned to  \\\n",
       "0      Graduate Recruitment      1.1         CV Screening  Resource 1   \n",
       "1      Graduate Recruitment      1.2  1st Stage Interview  Resource 1   \n",
       "2      Graduate Recruitment      1.3  2nd Stage Interview  Resource 1   \n",
       "3      Graduate Recruitment      1.4         Issue Offers  Resource 1   \n",
       "4      Graduate Recruitment      1.5              Onboard  Resource 1   \n",
       "5   Experienced Recruitment      2.1         CV Screening  Resource 2   \n",
       "6   Experienced Recruitment      2.2  1st Stage Interview  Resource 2   \n",
       "7   Experienced Recruitment      2.3  2nd Stage Interview  Resource 2   \n",
       "8   Experienced Recruitment      2.4         Issue Offers  Resource 2   \n",
       "9   Experienced Recruitment      2.5              Onboard  Resource 2   \n",
       "10      C-Suite Recruitment      3.1         CV Screening  Resource 3   \n",
       "11      C-Suite Recruitment      3.2  1st Stage Interview  Resource 3   \n",
       "12      C-Suite Recruitment      3.3  2nd Stage Interview  Resource 4   \n",
       "13      C-Suite Recruitment      3.4         Issue Offers  Resource 4   \n",
       "14      C-Suite Recruitment      3.5              Onboard  Resource 4   \n",
       "\n",
       "       Progress Planned start date  Planned Duration Planned Finish Date  \\\n",
       "0   In progress         2023-02-27                 9          2023-03-07   \n",
       "1   Not started         2023-03-08                 5          2023-03-12   \n",
       "2   Not started         2023-03-13                 4          2023-03-16   \n",
       "3   Not started         2023-03-17                 8          2023-03-24   \n",
       "4   Not started         2023-03-25                 6          2023-03-30   \n",
       "5   In progress         2023-02-27                 5          2023-03-03   \n",
       "6   Not started         2023-03-04                10          2023-03-13   \n",
       "7   Not started         2023-03-14                 0          2023-03-13   \n",
       "8   Not started         2023-03-14                 8          2023-03-21   \n",
       "9   Not started         2023-03-22                10          2023-03-31   \n",
       "10  In progress         2023-02-27                 3          2023-03-01   \n",
       "11  Not started         2023-03-02                 2          2023-03-03   \n",
       "12  Not started         2023-03-04                10          2023-03-13   \n",
       "13  Not started         2023-03-14                 8          2023-03-21   \n",
       "14  Not started         2023-03-22                 3          2023-03-24   \n",
       "\n",
       "   Actual Start Date Actual Completion Date Forecast Completion Date  \n",
       "0         2023-02-27             2023-03-10               2023-03-10  \n",
       "1         2023-03-11                    NaT               2023-03-16  \n",
       "2                NaT                    NaT               2023-03-16  \n",
       "3                NaT                    NaT               2023-03-24  \n",
       "4                NaT                    NaT               2023-03-30  \n",
       "5         2023-02-28             2023-03-03               2023-03-03  \n",
       "6                NaT                    NaT               2023-03-13  \n",
       "7                NaT                    NaT               2023-03-13  \n",
       "8                NaT                    NaT               2023-03-21  \n",
       "9                NaT                    NaT               2023-03-31  \n",
       "10        2023-03-05                    NaT               2023-03-08  \n",
       "11               NaT                    NaT               2023-03-03  \n",
       "12               NaT                    NaT               2023-03-13  \n",
       "13               NaT                    NaT               2023-03-21  \n",
       "14               NaT                    NaT               2023-03-24  "
      ]
     },
     "execution_count": 56,
     "metadata": {},
     "output_type": "execute_result"
    }
   ],
   "source": [
    "mock_df = pd.DataFrame(columns=[\"resource_id\", \"task_duration\", \"\"])"
   ]
  },
  {
   "cell_type": "code",
   "execution_count": 57,
   "metadata": {},
   "outputs": [],
   "source": [
    "total_time_forecast = df[\"Planned Duration\"].sum()\n",
    "df[\"cumulative_forecast_time\"] = df[\"Planned Duration\"].cumsum()\n",
    "df[\"cumulative_completion_percentage\"] = df[\"cumulative_forecast_time\"]/total_time_forecast\n",
    "df[\"completion_uncertainty\"] = df[\"Planned Duration\"]*0.05\n",
    "\n",
    "df[\"delay_duration\"] = (df[\"Actual Start Date\"] - df[\"Planned start date\"])\n",
    "df[\"delay_duration\"] = df[\"delay_duration\"].fillna(\"0 days\")\n",
    "df[\"cumulative_delay\"]=pd.Timedelta(\"0 days\")\n",
    "df[\"cumulative_delay\"] = df[\"delay_duration\"].cumsum()\n",
    "\n",
    "df[\"updated_forecast\"] = df[\"Planned start date\"] + df[\"cumulative_delay\"]\n"
   ]
  },
  {
   "cell_type": "code",
   "execution_count": 58,
   "metadata": {},
   "outputs": [
    {
     "data": {
      "text/html": [
       "<div>\n",
       "<style scoped>\n",
       "    .dataframe tbody tr th:only-of-type {\n",
       "        vertical-align: middle;\n",
       "    }\n",
       "\n",
       "    .dataframe tbody tr th {\n",
       "        vertical-align: top;\n",
       "    }\n",
       "\n",
       "    .dataframe thead th {\n",
       "        text-align: right;\n",
       "    }\n",
       "</style>\n",
       "<table border=\"1\" class=\"dataframe\">\n",
       "  <thead>\n",
       "    <tr style=\"text-align: right;\">\n",
       "      <th></th>\n",
       "      <th>Request</th>\n",
       "      <th>Task ID</th>\n",
       "      <th>Step Description</th>\n",
       "      <th>Assigned to</th>\n",
       "      <th>Progress</th>\n",
       "      <th>Planned start date</th>\n",
       "      <th>Planned Duration</th>\n",
       "      <th>Planned Finish Date</th>\n",
       "      <th>Actual Start Date</th>\n",
       "      <th>Actual Completion Date</th>\n",
       "      <th>Forecast Completion Date</th>\n",
       "      <th>cumulative_forecast_time</th>\n",
       "      <th>cumulative_completion_percentage</th>\n",
       "      <th>completion_uncertainty</th>\n",
       "      <th>delay_duration</th>\n",
       "      <th>cumulative_delay</th>\n",
       "      <th>updated_forecast</th>\n",
       "    </tr>\n",
       "  </thead>\n",
       "  <tbody>\n",
       "    <tr>\n",
       "      <th>0</th>\n",
       "      <td>Graduate Recruitment</td>\n",
       "      <td>1.1</td>\n",
       "      <td>CV Screening</td>\n",
       "      <td>Resource 1</td>\n",
       "      <td>In progress</td>\n",
       "      <td>2023-02-27</td>\n",
       "      <td>9</td>\n",
       "      <td>2023-03-07</td>\n",
       "      <td>2023-02-27</td>\n",
       "      <td>2023-03-10</td>\n",
       "      <td>2023-03-10</td>\n",
       "      <td>9</td>\n",
       "      <td>0.098901</td>\n",
       "      <td>0.45</td>\n",
       "      <td>0 days</td>\n",
       "      <td>0 days</td>\n",
       "      <td>2023-02-27</td>\n",
       "    </tr>\n",
       "    <tr>\n",
       "      <th>1</th>\n",
       "      <td>Graduate Recruitment</td>\n",
       "      <td>1.2</td>\n",
       "      <td>1st Stage Interview</td>\n",
       "      <td>Resource 1</td>\n",
       "      <td>Not started</td>\n",
       "      <td>2023-03-08</td>\n",
       "      <td>5</td>\n",
       "      <td>2023-03-12</td>\n",
       "      <td>2023-03-11</td>\n",
       "      <td>NaT</td>\n",
       "      <td>2023-03-16</td>\n",
       "      <td>14</td>\n",
       "      <td>0.153846</td>\n",
       "      <td>0.25</td>\n",
       "      <td>3 days</td>\n",
       "      <td>3 days</td>\n",
       "      <td>2023-03-11</td>\n",
       "    </tr>\n",
       "    <tr>\n",
       "      <th>2</th>\n",
       "      <td>Graduate Recruitment</td>\n",
       "      <td>1.3</td>\n",
       "      <td>2nd Stage Interview</td>\n",
       "      <td>Resource 1</td>\n",
       "      <td>Not started</td>\n",
       "      <td>2023-03-13</td>\n",
       "      <td>4</td>\n",
       "      <td>2023-03-16</td>\n",
       "      <td>NaT</td>\n",
       "      <td>NaT</td>\n",
       "      <td>2023-03-16</td>\n",
       "      <td>18</td>\n",
       "      <td>0.197802</td>\n",
       "      <td>0.20</td>\n",
       "      <td>0 days</td>\n",
       "      <td>3 days</td>\n",
       "      <td>2023-03-16</td>\n",
       "    </tr>\n",
       "    <tr>\n",
       "      <th>3</th>\n",
       "      <td>Graduate Recruitment</td>\n",
       "      <td>1.4</td>\n",
       "      <td>Issue Offers</td>\n",
       "      <td>Resource 1</td>\n",
       "      <td>Not started</td>\n",
       "      <td>2023-03-17</td>\n",
       "      <td>8</td>\n",
       "      <td>2023-03-24</td>\n",
       "      <td>NaT</td>\n",
       "      <td>NaT</td>\n",
       "      <td>2023-03-24</td>\n",
       "      <td>26</td>\n",
       "      <td>0.285714</td>\n",
       "      <td>0.40</td>\n",
       "      <td>0 days</td>\n",
       "      <td>3 days</td>\n",
       "      <td>2023-03-20</td>\n",
       "    </tr>\n",
       "    <tr>\n",
       "      <th>4</th>\n",
       "      <td>Graduate Recruitment</td>\n",
       "      <td>1.5</td>\n",
       "      <td>Onboard</td>\n",
       "      <td>Resource 1</td>\n",
       "      <td>Not started</td>\n",
       "      <td>2023-03-25</td>\n",
       "      <td>6</td>\n",
       "      <td>2023-03-30</td>\n",
       "      <td>NaT</td>\n",
       "      <td>NaT</td>\n",
       "      <td>2023-03-30</td>\n",
       "      <td>32</td>\n",
       "      <td>0.351648</td>\n",
       "      <td>0.30</td>\n",
       "      <td>0 days</td>\n",
       "      <td>3 days</td>\n",
       "      <td>2023-03-28</td>\n",
       "    </tr>\n",
       "    <tr>\n",
       "      <th>5</th>\n",
       "      <td>Experienced Recruitment</td>\n",
       "      <td>2.1</td>\n",
       "      <td>CV Screening</td>\n",
       "      <td>Resource 2</td>\n",
       "      <td>In progress</td>\n",
       "      <td>2023-02-27</td>\n",
       "      <td>5</td>\n",
       "      <td>2023-03-03</td>\n",
       "      <td>2023-02-28</td>\n",
       "      <td>2023-03-03</td>\n",
       "      <td>2023-03-03</td>\n",
       "      <td>37</td>\n",
       "      <td>0.406593</td>\n",
       "      <td>0.25</td>\n",
       "      <td>1 days</td>\n",
       "      <td>4 days</td>\n",
       "      <td>2023-03-03</td>\n",
       "    </tr>\n",
       "    <tr>\n",
       "      <th>6</th>\n",
       "      <td>Experienced Recruitment</td>\n",
       "      <td>2.2</td>\n",
       "      <td>1st Stage Interview</td>\n",
       "      <td>Resource 2</td>\n",
       "      <td>Not started</td>\n",
       "      <td>2023-03-04</td>\n",
       "      <td>10</td>\n",
       "      <td>2023-03-13</td>\n",
       "      <td>NaT</td>\n",
       "      <td>NaT</td>\n",
       "      <td>2023-03-13</td>\n",
       "      <td>47</td>\n",
       "      <td>0.516484</td>\n",
       "      <td>0.50</td>\n",
       "      <td>0 days</td>\n",
       "      <td>4 days</td>\n",
       "      <td>2023-03-08</td>\n",
       "    </tr>\n",
       "    <tr>\n",
       "      <th>7</th>\n",
       "      <td>Experienced Recruitment</td>\n",
       "      <td>2.3</td>\n",
       "      <td>2nd Stage Interview</td>\n",
       "      <td>Resource 2</td>\n",
       "      <td>Not started</td>\n",
       "      <td>2023-03-14</td>\n",
       "      <td>0</td>\n",
       "      <td>2023-03-13</td>\n",
       "      <td>NaT</td>\n",
       "      <td>NaT</td>\n",
       "      <td>2023-03-13</td>\n",
       "      <td>47</td>\n",
       "      <td>0.516484</td>\n",
       "      <td>0.00</td>\n",
       "      <td>0 days</td>\n",
       "      <td>4 days</td>\n",
       "      <td>2023-03-18</td>\n",
       "    </tr>\n",
       "    <tr>\n",
       "      <th>8</th>\n",
       "      <td>Experienced Recruitment</td>\n",
       "      <td>2.4</td>\n",
       "      <td>Issue Offers</td>\n",
       "      <td>Resource 2</td>\n",
       "      <td>Not started</td>\n",
       "      <td>2023-03-14</td>\n",
       "      <td>8</td>\n",
       "      <td>2023-03-21</td>\n",
       "      <td>NaT</td>\n",
       "      <td>NaT</td>\n",
       "      <td>2023-03-21</td>\n",
       "      <td>55</td>\n",
       "      <td>0.604396</td>\n",
       "      <td>0.40</td>\n",
       "      <td>0 days</td>\n",
       "      <td>4 days</td>\n",
       "      <td>2023-03-18</td>\n",
       "    </tr>\n",
       "    <tr>\n",
       "      <th>9</th>\n",
       "      <td>Experienced Recruitment</td>\n",
       "      <td>2.5</td>\n",
       "      <td>Onboard</td>\n",
       "      <td>Resource 2</td>\n",
       "      <td>Not started</td>\n",
       "      <td>2023-03-22</td>\n",
       "      <td>10</td>\n",
       "      <td>2023-03-31</td>\n",
       "      <td>NaT</td>\n",
       "      <td>NaT</td>\n",
       "      <td>2023-03-31</td>\n",
       "      <td>65</td>\n",
       "      <td>0.714286</td>\n",
       "      <td>0.50</td>\n",
       "      <td>0 days</td>\n",
       "      <td>4 days</td>\n",
       "      <td>2023-03-26</td>\n",
       "    </tr>\n",
       "    <tr>\n",
       "      <th>10</th>\n",
       "      <td>C-Suite Recruitment</td>\n",
       "      <td>3.1</td>\n",
       "      <td>CV Screening</td>\n",
       "      <td>Resource 3</td>\n",
       "      <td>In progress</td>\n",
       "      <td>2023-02-27</td>\n",
       "      <td>3</td>\n",
       "      <td>2023-03-01</td>\n",
       "      <td>2023-03-05</td>\n",
       "      <td>NaT</td>\n",
       "      <td>2023-03-08</td>\n",
       "      <td>68</td>\n",
       "      <td>0.747253</td>\n",
       "      <td>0.15</td>\n",
       "      <td>6 days</td>\n",
       "      <td>10 days</td>\n",
       "      <td>2023-03-09</td>\n",
       "    </tr>\n",
       "    <tr>\n",
       "      <th>11</th>\n",
       "      <td>C-Suite Recruitment</td>\n",
       "      <td>3.2</td>\n",
       "      <td>1st Stage Interview</td>\n",
       "      <td>Resource 3</td>\n",
       "      <td>Not started</td>\n",
       "      <td>2023-03-02</td>\n",
       "      <td>2</td>\n",
       "      <td>2023-03-03</td>\n",
       "      <td>NaT</td>\n",
       "      <td>NaT</td>\n",
       "      <td>2023-03-03</td>\n",
       "      <td>70</td>\n",
       "      <td>0.769231</td>\n",
       "      <td>0.10</td>\n",
       "      <td>0 days</td>\n",
       "      <td>10 days</td>\n",
       "      <td>2023-03-12</td>\n",
       "    </tr>\n",
       "    <tr>\n",
       "      <th>12</th>\n",
       "      <td>C-Suite Recruitment</td>\n",
       "      <td>3.3</td>\n",
       "      <td>2nd Stage Interview</td>\n",
       "      <td>Resource 4</td>\n",
       "      <td>Not started</td>\n",
       "      <td>2023-03-04</td>\n",
       "      <td>10</td>\n",
       "      <td>2023-03-13</td>\n",
       "      <td>NaT</td>\n",
       "      <td>NaT</td>\n",
       "      <td>2023-03-13</td>\n",
       "      <td>80</td>\n",
       "      <td>0.879121</td>\n",
       "      <td>0.50</td>\n",
       "      <td>0 days</td>\n",
       "      <td>10 days</td>\n",
       "      <td>2023-03-14</td>\n",
       "    </tr>\n",
       "    <tr>\n",
       "      <th>13</th>\n",
       "      <td>C-Suite Recruitment</td>\n",
       "      <td>3.4</td>\n",
       "      <td>Issue Offers</td>\n",
       "      <td>Resource 4</td>\n",
       "      <td>Not started</td>\n",
       "      <td>2023-03-14</td>\n",
       "      <td>8</td>\n",
       "      <td>2023-03-21</td>\n",
       "      <td>NaT</td>\n",
       "      <td>NaT</td>\n",
       "      <td>2023-03-21</td>\n",
       "      <td>88</td>\n",
       "      <td>0.967033</td>\n",
       "      <td>0.40</td>\n",
       "      <td>0 days</td>\n",
       "      <td>10 days</td>\n",
       "      <td>2023-03-24</td>\n",
       "    </tr>\n",
       "    <tr>\n",
       "      <th>14</th>\n",
       "      <td>C-Suite Recruitment</td>\n",
       "      <td>3.5</td>\n",
       "      <td>Onboard</td>\n",
       "      <td>Resource 4</td>\n",
       "      <td>Not started</td>\n",
       "      <td>2023-03-22</td>\n",
       "      <td>3</td>\n",
       "      <td>2023-03-24</td>\n",
       "      <td>NaT</td>\n",
       "      <td>NaT</td>\n",
       "      <td>2023-03-24</td>\n",
       "      <td>91</td>\n",
       "      <td>1.000000</td>\n",
       "      <td>0.15</td>\n",
       "      <td>0 days</td>\n",
       "      <td>10 days</td>\n",
       "      <td>2023-04-01</td>\n",
       "    </tr>\n",
       "  </tbody>\n",
       "</table>\n",
       "</div>"
      ],
      "text/plain": [
       "                    Request  Task ID     Step Description Assigned to  \\\n",
       "0      Graduate Recruitment      1.1         CV Screening  Resource 1   \n",
       "1      Graduate Recruitment      1.2  1st Stage Interview  Resource 1   \n",
       "2      Graduate Recruitment      1.3  2nd Stage Interview  Resource 1   \n",
       "3      Graduate Recruitment      1.4         Issue Offers  Resource 1   \n",
       "4      Graduate Recruitment      1.5              Onboard  Resource 1   \n",
       "5   Experienced Recruitment      2.1         CV Screening  Resource 2   \n",
       "6   Experienced Recruitment      2.2  1st Stage Interview  Resource 2   \n",
       "7   Experienced Recruitment      2.3  2nd Stage Interview  Resource 2   \n",
       "8   Experienced Recruitment      2.4         Issue Offers  Resource 2   \n",
       "9   Experienced Recruitment      2.5              Onboard  Resource 2   \n",
       "10      C-Suite Recruitment      3.1         CV Screening  Resource 3   \n",
       "11      C-Suite Recruitment      3.2  1st Stage Interview  Resource 3   \n",
       "12      C-Suite Recruitment      3.3  2nd Stage Interview  Resource 4   \n",
       "13      C-Suite Recruitment      3.4         Issue Offers  Resource 4   \n",
       "14      C-Suite Recruitment      3.5              Onboard  Resource 4   \n",
       "\n",
       "       Progress Planned start date  Planned Duration Planned Finish Date  \\\n",
       "0   In progress         2023-02-27                 9          2023-03-07   \n",
       "1   Not started         2023-03-08                 5          2023-03-12   \n",
       "2   Not started         2023-03-13                 4          2023-03-16   \n",
       "3   Not started         2023-03-17                 8          2023-03-24   \n",
       "4   Not started         2023-03-25                 6          2023-03-30   \n",
       "5   In progress         2023-02-27                 5          2023-03-03   \n",
       "6   Not started         2023-03-04                10          2023-03-13   \n",
       "7   Not started         2023-03-14                 0          2023-03-13   \n",
       "8   Not started         2023-03-14                 8          2023-03-21   \n",
       "9   Not started         2023-03-22                10          2023-03-31   \n",
       "10  In progress         2023-02-27                 3          2023-03-01   \n",
       "11  Not started         2023-03-02                 2          2023-03-03   \n",
       "12  Not started         2023-03-04                10          2023-03-13   \n",
       "13  Not started         2023-03-14                 8          2023-03-21   \n",
       "14  Not started         2023-03-22                 3          2023-03-24   \n",
       "\n",
       "   Actual Start Date Actual Completion Date Forecast Completion Date  \\\n",
       "0         2023-02-27             2023-03-10               2023-03-10   \n",
       "1         2023-03-11                    NaT               2023-03-16   \n",
       "2                NaT                    NaT               2023-03-16   \n",
       "3                NaT                    NaT               2023-03-24   \n",
       "4                NaT                    NaT               2023-03-30   \n",
       "5         2023-02-28             2023-03-03               2023-03-03   \n",
       "6                NaT                    NaT               2023-03-13   \n",
       "7                NaT                    NaT               2023-03-13   \n",
       "8                NaT                    NaT               2023-03-21   \n",
       "9                NaT                    NaT               2023-03-31   \n",
       "10        2023-03-05                    NaT               2023-03-08   \n",
       "11               NaT                    NaT               2023-03-03   \n",
       "12               NaT                    NaT               2023-03-13   \n",
       "13               NaT                    NaT               2023-03-21   \n",
       "14               NaT                    NaT               2023-03-24   \n",
       "\n",
       "    cumulative_forecast_time  cumulative_completion_percentage  \\\n",
       "0                          9                          0.098901   \n",
       "1                         14                          0.153846   \n",
       "2                         18                          0.197802   \n",
       "3                         26                          0.285714   \n",
       "4                         32                          0.351648   \n",
       "5                         37                          0.406593   \n",
       "6                         47                          0.516484   \n",
       "7                         47                          0.516484   \n",
       "8                         55                          0.604396   \n",
       "9                         65                          0.714286   \n",
       "10                        68                          0.747253   \n",
       "11                        70                          0.769231   \n",
       "12                        80                          0.879121   \n",
       "13                        88                          0.967033   \n",
       "14                        91                          1.000000   \n",
       "\n",
       "    completion_uncertainty delay_duration cumulative_delay updated_forecast  \n",
       "0                     0.45         0 days           0 days       2023-02-27  \n",
       "1                     0.25         3 days           3 days       2023-03-11  \n",
       "2                     0.20         0 days           3 days       2023-03-16  \n",
       "3                     0.40         0 days           3 days       2023-03-20  \n",
       "4                     0.30         0 days           3 days       2023-03-28  \n",
       "5                     0.25         1 days           4 days       2023-03-03  \n",
       "6                     0.50         0 days           4 days       2023-03-08  \n",
       "7                     0.00         0 days           4 days       2023-03-18  \n",
       "8                     0.40         0 days           4 days       2023-03-18  \n",
       "9                     0.50         0 days           4 days       2023-03-26  \n",
       "10                    0.15         6 days          10 days       2023-03-09  \n",
       "11                    0.10         0 days          10 days       2023-03-12  \n",
       "12                    0.50         0 days          10 days       2023-03-14  \n",
       "13                    0.40         0 days          10 days       2023-03-24  \n",
       "14                    0.15         0 days          10 days       2023-04-01  "
      ]
     },
     "execution_count": 58,
     "metadata": {},
     "output_type": "execute_result"
    }
   ],
   "source": [
    "df"
   ]
  },
  {
   "cell_type": "code",
   "execution_count": 75,
   "metadata": {},
   "outputs": [],
   "source": [
    "import xgboost as xg\n",
    "from sklearn.model_selection import train_test_split\n",
    "from sklearn.metrics import mean_squared_error as MSE\n",
    "import pickle\n",
    "from sklearn import preprocessing\n",
    "import numpy as np"
   ]
  },
  {
   "cell_type": "code",
   "execution_count": 76,
   "metadata": {},
   "outputs": [],
   "source": [
    "file_name = \"xgb_trained_model.pkl\"\n",
    "\n",
    "dataset = pd.read_csv(\"Historic_Data.csv\")\n",
    "X, y = dataset.iloc[:, :-1], dataset.iloc[:, -1]\n",
    "xgb_r = xg.XGBRegressor(n_estimators = 10, seed = 123)\n",
    "\n",
    "\n",
    "encoder_task = preprocessing.LabelEncoder()\n",
    "encoder_task.fit(X.loc[:,\"Task\"])\n",
    "X.loc[:,\"Task\"] = encoder_task.transform(X.loc[:,\"Task\"])\n",
    "\n",
    "encoder_res = preprocessing.LabelEncoder()\n",
    "encoder_res.fit(X.loc[:,\"Resource\"])\n",
    "X.loc[:,\"Resource\"] = encoder_res.transform(X.loc[:,\"Resource\"])\n",
    "\n",
    "xgb_r.fit(X, y)\n",
    "# save\n",
    "pickle.dump(xgb_r, open(file_name, \"wb\"))"
   ]
  },
  {
   "cell_type": "code",
   "execution_count": 77,
   "metadata": {},
   "outputs": [],
   "source": [
    "file_name = \"xgb_trained_model.pkl\"\n",
    "# load\n",
    "xgb_model_loaded = pickle.load(open(file_name, \"rb\"))"
   ]
  },
  {
   "cell_type": "code",
   "execution_count": 93,
   "metadata": {},
   "outputs": [],
   "source": [
    "task_request = \"Graduate Recruitment\"\n",
    "res_request = \"Resource 4\"\n",
    "\n",
    "#load model\n",
    "file_name = \"xgb_trained_model.pkl\"\n",
    "xgb_model_loaded = pickle.load(open(file_name, \"rb\"))\n",
    "\n",
    "def estimate_required_time(task_request, res_request):\n",
    "\n",
    "    task_request = encoder_task.transform([task_request])\n",
    "    res_request = encoder_res.transform([res_request])\n",
    "\n",
    "    inarray = np.array([task_request, res_request]).reshape(1,-1)\n",
    "    return xgb_model_loaded.predict(inarray)[0]"
   ]
  },
  {
   "cell_type": "code",
   "execution_count": 94,
   "metadata": {},
   "outputs": [
    {
     "data": {
      "text/plain": [
       "6.2565045"
      ]
     },
     "execution_count": 94,
     "metadata": {},
     "output_type": "execute_result"
    }
   ],
   "source": [
    "estimate_required_time(task_request, res_request)"
   ]
  },
  {
   "cell_type": "code",
   "execution_count": null,
   "metadata": {},
   "outputs": [],
   "source": []
  }
 ],
 "metadata": {
  "kernelspec": {
   "display_name": "Python 3",
   "language": "python",
   "name": "python3"
  },
  "language_info": {
   "codemirror_mode": {
    "name": "ipython",
    "version": 3
   },
   "file_extension": ".py",
   "mimetype": "text/x-python",
   "name": "python",
   "nbconvert_exporter": "python",
   "pygments_lexer": "ipython3",
   "version": "3.8.10"
  },
  "orig_nbformat": 4,
  "vscode": {
   "interpreter": {
    "hash": "32f9ae0b9d3f38ccb874828f6e74ecf8cc1cf737a8fc426072272590c8844b62"
   }
  }
 },
 "nbformat": 4,
 "nbformat_minor": 2
}
